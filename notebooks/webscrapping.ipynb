{
 "cells": [
  {
   "cell_type": "code",
   "execution_count": 12,
   "id": "4336cdbb",
   "metadata": {},
   "outputs": [],
   "source": [
    "import cloudscraper\n",
    "import pandas as pd\n",
    "\n",
    "def stock_data(symbol):\n",
    "    url = \"https://www.nepsealpha.com/trading/1/history\"\n",
    "    params = {\n",
    "        \"fsk\": \"rpEzO8wdmCtGJiAY\",\n",
    "        \"symbol\": symbol, \n",
    "        \"resolution\": \"1D\",\n",
    "        \"pass\": \"ok\"\n",
    "    }\n",
    "  \n",
    "    scraper = cloudscraper.create_scraper()\n",
    "    response = scraper.get(url, params=params)\n",
    "    response.raise_for_status()\n",
    "    return response.json()\n",
    "\n"
   ]
  },
  {
   "cell_type": "code",
   "execution_count": 13,
   "id": "376eaa6a",
   "metadata": {},
   "outputs": [],
   "source": [
    "if __name__ =='__main__':\n",
    "    raw_data = stock_data(\"CLI\")\n",
    "    df = pd.DataFrame(raw_data)\n",
    "    df.head(5)\n",
    "    df.to_csv('../data/Life_Insurance/CLI.csv',index=False)\n",
    "    \n",
    "\n"
   ]
  },
  {
   "cell_type": "code",
   "execution_count": null,
   "id": "3593f567",
   "metadata": {},
   "outputs": [],
   "source": []
  },
  {
   "cell_type": "code",
   "execution_count": null,
   "id": "a01b8fb7",
   "metadata": {},
   "outputs": [],
   "source": []
  }
 ],
 "metadata": {
  "kernelspec": {
   "display_name": ".venv_tf",
   "language": "python",
   "name": "python3"
  },
  "language_info": {
   "codemirror_mode": {
    "name": "ipython",
    "version": 3
   },
   "file_extension": ".py",
   "mimetype": "text/x-python",
   "name": "python",
   "nbconvert_exporter": "python",
   "pygments_lexer": "ipython3",
   "version": "3.12.8"
  }
 },
 "nbformat": 4,
 "nbformat_minor": 5
}
